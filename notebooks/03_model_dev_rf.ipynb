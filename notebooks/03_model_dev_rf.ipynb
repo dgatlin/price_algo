{
  "cells": [
    {
      "cell_type": "markdown",
      "metadata": {},
      "source": [
        "# Random Forest Model Development\n",
        "\n",
        "This notebook develops and optimizes the Random Forest model using the project's training, model, and metrics modules.\n",
        "\n",
        "## Objectives\n",
        "- Hyperparameter optimization with Optuna\n",
        "- Model evaluation and validation\n",
        "- Feature importance analysis\n",
        "- Performance metrics comparison\n",
        "- Model selection and finalization\n"
      ]
    },
    {
      "cell_type": "code",
      "execution_count": 5,
      "metadata": {},
      "outputs": [
        {
          "name": "stdout",
          "output_type": "stream",
          "text": [
            "✅ pydantic-settings already available\n"
          ]
        }
      ],
      "source": [
        "# Install required packages if not available\n",
        "import subprocess\n",
        "import sys\n",
        "\n",
        "def install_package(package):\n",
        "    try:\n",
        "        subprocess.check_call([sys.executable, '-m', 'pip', 'install', package])\n",
        "        print(f\"✅ {package} installed successfully\")\n",
        "    except Exception as e:\n",
        "        print(f\"⚠️  Could not install {package}: {e}\")\n",
        "\n",
        "# Install pydantic-settings if needed\n",
        "try:\n",
        "    import pydantic_settings\n",
        "    print(\"✅ pydantic-settings already available\")\n",
        "except ImportError:\n",
        "    print(\"Installing pydantic-settings...\")\n",
        "    install_package('pydantic-settings')\n"
      ]
    },
    {
      "cell_type": "code",
      "execution_count": 6,
      "metadata": {},
      "outputs": [],
      "source": [
        "# Import project modules\n",
        "import sys\n",
        "sys.path.append('../src')\n",
        "\n",
        "import pandas as pd\n",
        "import numpy as np\n",
        "import matplotlib.pyplot as plt\n",
        "import seaborn as sns\n",
        "import optuna\n",
        "from sklearn.model_selection import cross_val_score\n",
        "from sklearn.metrics import mean_absolute_error, r2_score\n",
        "import warnings\n",
        "warnings.filterwarnings('ignore')\n",
        "\n",
        "# Project modules\n",
        "from pricing_rf.data import load_data, clean_data, get_time_series_cv_splits\n",
        "from pricing_rf.features import create_feature_pipeline, create_all_features\n",
        "from pricing_rf.metrics import wape, tail_mae, evaluate_model\n",
        "from pricing_rf.model import build_rf\n",
        "from pricing_rf.config import DataConfig\n",
        "from training.objective import create_objective, create_objective_with_cv\n",
        "\n",
        "# Set up plotting\n",
        "plt.style.use('seaborn-v0_8')\n",
        "sns.set_palette(\"husl\")\n",
        "plt.rcParams['figure.figsize'] = (12, 8)\n"
      ]
    },
    {
      "cell_type": "markdown",
      "metadata": {},
      "source": [
        "## 1. Data Preparation and Feature Engineering\n"
      ]
    },
    {
      "cell_type": "code",
      "execution_count": 7,
      "metadata": {},
      "outputs": [
        {
          "name": "stdout",
          "output_type": "stream",
          "text": [
            "Loading and preparing data...\n",
            "Raw data shape: (10000, 6)\n",
            "Cleaned data shape: (10000, 6)\n",
            "Creating all features...\n",
            "Data with features shape: (10000, 39)\n",
            "Categorical features: ['category_feature']\n",
            "Numerical features: 36 features\n",
            "Feature pipeline created: <class 'sklearn.compose._column_transformer.ColumnTransformer'>\n",
            "Feature matrix shape: (10000, 39)\n",
            "Target shape: (10000,)\n",
            "Feature names after transformation: ['num__feature1' 'num__feature2' 'num__feature3' 'num__year' 'num__month'\n",
            " 'num__day' 'num__dayofweek' 'num__dayofyear' 'num__week' 'num__quarter'\n",
            " 'num__month_sin' 'num__month_cos' 'num__dayofweek_sin'\n",
            " 'num__dayofweek_cos' 'num__timestamp_numeric' 'num__price_lag_1'\n",
            " 'num__price_lag_7' 'num__price_lag_30' 'num__price_rolling_mean_7'\n",
            " 'num__price_rolling_std_7' 'num__price_rolling_min_7'\n",
            " 'num__price_rolling_max_7' 'num__price_rolling_mean_30'\n",
            " 'num__price_rolling_std_30' 'num__price_rolling_min_30'\n",
            " 'num__price_rolling_max_30' 'num__price_rolling_mean_90'\n",
            " 'num__price_rolling_std_90' 'num__price_rolling_min_90'\n",
            " 'num__price_rolling_max_90' 'num__price_pct_change_1' 'num__price_diff_1'\n",
            " 'num__price_pct_change_7' 'num__price_diff_7' 'num__price_pct_change_30'\n",
            " 'num__price_diff_30' 'cat__category_feature_category_a'\n",
            " 'cat__category_feature_category_b' 'cat__category_feature_category_c']\n"
          ]
        }
      ],
      "source": [
        "# Load and prepare data\n",
        "print(\"Loading and preparing data...\")\n",
        "raw_data = load_data('../data/raw.csv')\n",
        "cleaned_data = clean_data(raw_data)\n",
        "\n",
        "print(f\"Raw data shape: {raw_data.shape}\")\n",
        "print(f\"Cleaned data shape: {cleaned_data.shape}\")\n",
        "\n",
        "# Create all features\n",
        "print(\"Creating all features...\")\n",
        "df_with_features = create_all_features(cleaned_data)\n",
        "print(f\"Data with features shape: {df_with_features.shape}\")\n",
        "\n",
        "# Define categorical and numerical features for the pipeline\n",
        "categorical_features = ['category_feature']\n",
        "numerical_features = [col for col in df_with_features.columns \n",
        "                     if col not in ['timestamp', 'price', 'category_feature']]\n",
        "\n",
        "print(f\"Categorical features: {categorical_features}\")\n",
        "print(f\"Numerical features: {len(numerical_features)} features\")\n",
        "\n",
        "# Create feature pipeline\n",
        "feature_pipeline = create_feature_pipeline(categorical_features, numerical_features)\n",
        "print(f\"Feature pipeline created: {type(feature_pipeline)}\")\n",
        "\n",
        "# Prepare features and target\n",
        "X = feature_pipeline.fit_transform(df_with_features)\n",
        "y = df_with_features['price'].values\n",
        "\n",
        "print(f\"Feature matrix shape: {X.shape}\")\n",
        "print(f\"Target shape: {y.shape}\")\n",
        "print(f\"Feature names after transformation: {feature_pipeline.get_feature_names_out()}\")\n"
      ]
    },
    {
      "cell_type": "markdown",
      "metadata": {},
      "source": [
        "## 2. Time Series Split for Validation\n"
      ]
    },
    {
      "cell_type": "code",
      "execution_count": 8,
      "metadata": {},
      "outputs": [
        {
          "name": "stdout",
          "output_type": "stream",
          "text": [
            "Creating time series splits...\n",
            "Number of splits: 5\n",
            "Split 1: Train=1670, Val=1666\n",
            "  Train date range: 2020-01-01 00:00:00 to 2024-07-27 00:00:00\n",
            "  Val date range: 2024-07-28 00:00:00 to 2029-02-17 00:00:00\n",
            "Split 2: Train=3336, Val=1666\n",
            "  Train date range: 2020-01-01 00:00:00 to 2029-02-17 00:00:00\n",
            "  Val date range: 2029-02-18 00:00:00 to 2033-09-10 00:00:00\n",
            "Split 3: Train=5002, Val=1666\n",
            "  Train date range: 2020-01-01 00:00:00 to 2033-09-10 00:00:00\n",
            "  Val date range: 2033-09-11 00:00:00 to 2038-04-03 00:00:00\n",
            "Split 4: Train=6668, Val=1666\n",
            "  Train date range: 2020-01-01 00:00:00 to 2038-04-03 00:00:00\n",
            "  Val date range: 2038-04-04 00:00:00 to 2042-10-25 00:00:00\n",
            "Split 5: Train=8334, Val=1666\n",
            "  Train date range: 2020-01-01 00:00:00 to 2042-10-25 00:00:00\n",
            "  Val date range: 2042-10-26 00:00:00 to 2047-05-18 00:00:00\n",
            "\n",
            "Final split for optimization:\n",
            "Train: 8334 samples\n",
            "Validation: 1666 samples\n"
          ]
        }
      ],
      "source": [
        "# Create time series splits\n",
        "print(\"Creating time series splits...\")\n",
        "splits = get_time_series_cv_splits(df_with_features, n_splits=5)\n",
        "\n",
        "print(f\"Number of splits: {len(splits)}\")\n",
        "for i, (train_idx, val_idx) in enumerate(splits):\n",
        "    train_data = df_with_features.iloc[train_idx]\n",
        "    val_data = df_with_features.iloc[val_idx]\n",
        "    print(f\"Split {i+1}: Train={len(train_data)}, Val={len(val_data)}\")\n",
        "    print(f\"  Train date range: {train_data['timestamp'].min()} to {train_data['timestamp'].max()}\")\n",
        "    print(f\"  Val date range: {val_data['timestamp'].min()} to {val_data['timestamp'].max()}\")\n",
        "\n",
        "# Use the last split for hyperparameter optimization\n",
        "train_idx, val_idx = splits[-1]\n",
        "X_train, X_val = X[train_idx], X[val_idx]\n",
        "y_train, y_val = y[train_idx], y[val_idx]\n",
        "\n",
        "print(f\"\\nFinal split for optimization:\")\n",
        "print(f\"Train: {X_train.shape[0]} samples\")\n",
        "print(f\"Validation: {X_val.shape[0]} samples\")\n"
      ]
    },
    {
      "cell_type": "markdown",
      "metadata": {},
      "source": [
        "## 3. Hyperparameter Optimization with Optuna\n"
      ]
    },
    {
      "cell_type": "code",
      "execution_count": 9,
      "metadata": {},
      "outputs": [
        {
          "name": "stderr",
          "output_type": "stream",
          "text": [
            "[I 2025-09-14 17:00:37,955] A new study created in memory with name: pricing_rf_optimization\n"
          ]
        },
        {
          "name": "stdout",
          "output_type": "stream",
          "text": [
            "Creating Optuna objective...\n",
            "Study created: pricing_rf_optimization\n",
            "Starting hyperparameter optimization...\n",
            "This may take several minutes...\n"
          ]
        },
        {
          "name": "stderr",
          "output_type": "stream",
          "text": [
            "[I 2025-09-14 17:00:43,714] Trial 0 finished with value: 1.3713979039739195 and parameters: {'n_estimators': 326, 'max_depth': 22, 'min_samples_split': 11, 'min_samples_leaf': 9, 'max_features': None}. Best is trial 0 with value: 1.3713979039739195.\n",
            "[I 2025-09-14 17:00:44,144] Trial 1 finished with value: 3.500222771157767 and parameters: {'n_estimators': 123, 'max_depth': 12, 'min_samples_split': 7, 'min_samples_leaf': 10, 'max_features': 'sqrt'}. Best is trial 0 with value: 1.3713979039739195.\n",
            "[I 2025-09-14 17:00:44,362] Trial 2 finished with value: 3.5642946830248654 and parameters: {'n_estimators': 54, 'max_depth': 43, 'min_samples_split': 11, 'min_samples_leaf': 9, 'max_features': 'sqrt'}. Best is trial 0 with value: 1.3713979039739195.\n",
            "[I 2025-09-14 17:00:44,533] Trial 3 finished with value: 3.4721659928016053 and parameters: {'n_estimators': 53, 'max_depth': 15, 'min_samples_split': 14, 'min_samples_leaf': 4, 'max_features': 'log2'}. Best is trial 0 with value: 1.3713979039739195.\n",
            "[I 2025-09-14 17:00:49,976] Trial 4 finished with value: 1.1641054538630007 and parameters: {'n_estimators': 271, 'max_depth': 28, 'min_samples_split': 7, 'min_samples_leaf': 5, 'max_features': None}. Best is trial 4 with value: 1.1641054538630007.\n",
            "[I 2025-09-14 17:00:51,633] Trial 5 finished with value: 3.346371069390097 and parameters: {'n_estimators': 385, 'max_depth': 28, 'min_samples_split': 9, 'min_samples_leaf': 9, 'max_features': 'sqrt'}. Best is trial 4 with value: 1.1641054538630007.\n",
            "[I 2025-09-14 17:00:58,716] Trial 6 finished with value: 1.2183071037126978 and parameters: {'n_estimators': 301, 'max_depth': 29, 'min_samples_split': 14, 'min_samples_leaf': 4, 'max_features': None}. Best is trial 4 with value: 1.1641054538630007.\n",
            "[I 2025-09-14 17:01:00,432] Trial 7 finished with value: 3.0254087442055546 and parameters: {'n_estimators': 400, 'max_depth': 44, 'min_samples_split': 6, 'min_samples_leaf': 5, 'max_features': 'sqrt'}. Best is trial 4 with value: 1.1641054538630007.\n",
            "[I 2025-09-14 17:01:01,310] Trial 8 finished with value: 3.5952578126973735 and parameters: {'n_estimators': 188, 'max_depth': 26, 'min_samples_split': 12, 'min_samples_leaf': 9, 'max_features': 'log2'}. Best is trial 4 with value: 1.1641054538630007.\n",
            "[I 2025-09-14 17:01:08,958] Trial 9 finished with value: 1.1831656970540263 and parameters: {'n_estimators': 286, 'max_depth': 20, 'min_samples_split': 12, 'min_samples_leaf': 4, 'max_features': None}. Best is trial 4 with value: 1.1641054538630007.\n",
            "[I 2025-09-14 17:01:20,850] Trial 10 finished with value: 1.078489930709302 and parameters: {'n_estimators': 493, 'max_depth': 36, 'min_samples_split': 2, 'min_samples_leaf': 1, 'max_features': None}. Best is trial 10 with value: 1.078489930709302.\n",
            "[I 2025-09-14 17:01:29,723] Trial 11 finished with value: 1.084887779549799 and parameters: {'n_estimators': 461, 'max_depth': 38, 'min_samples_split': 3, 'min_samples_leaf': 2, 'max_features': None}. Best is trial 10 with value: 1.078489930709302.\n",
            "[I 2025-09-14 17:01:40,023] Trial 12 finished with value: 1.0773335901782923 and parameters: {'n_estimators': 490, 'max_depth': 37, 'min_samples_split': 2, 'min_samples_leaf': 1, 'max_features': None}. Best is trial 12 with value: 1.0773335901782923.\n",
            "[I 2025-09-14 17:01:52,436] Trial 13 finished with value: 1.0773425670230241 and parameters: {'n_estimators': 491, 'max_depth': 37, 'min_samples_split': 2, 'min_samples_leaf': 1, 'max_features': None}. Best is trial 12 with value: 1.0773335901782923.\n",
            "[I 2025-09-14 17:02:00,840] Trial 14 finished with value: 1.3098015035196044 and parameters: {'n_estimators': 431, 'max_depth': 49, 'min_samples_split': 17, 'min_samples_leaf': 1, 'max_features': None}. Best is trial 12 with value: 1.0773335901782923.\n",
            "[I 2025-09-14 17:02:11,197] Trial 15 finished with value: 1.084968965616047 and parameters: {'n_estimators': 500, 'max_depth': 35, 'min_samples_split': 4, 'min_samples_leaf': 2, 'max_features': None}. Best is trial 12 with value: 1.0773335901782923.\n",
            "[I 2025-09-14 17:02:12,112] Trial 16 finished with value: 3.441091823971603 and parameters: {'n_estimators': 358, 'max_depth': 41, 'min_samples_split': 5, 'min_samples_leaf': 7, 'max_features': 'log2'}. Best is trial 12 with value: 1.0773335901782923.\n",
            "[I 2025-09-14 17:02:14,311] Trial 17 finished with value: 4.074517525401341 and parameters: {'n_estimators': 221, 'max_depth': 6, 'min_samples_split': 2, 'min_samples_leaf': 2, 'max_features': None}. Best is trial 12 with value: 1.0773335901782923.\n",
            "[I 2025-09-14 17:02:20,858] Trial 18 finished with value: 1.3933709829728513 and parameters: {'n_estimators': 438, 'max_depth': 49, 'min_samples_split': 20, 'min_samples_leaf': 3, 'max_features': None}. Best is trial 12 with value: 1.0773335901782923.\n",
            "[I 2025-09-14 17:02:21,810] Trial 19 finished with value: 3.441808532484035 and parameters: {'n_estimators': 404, 'max_depth': 33, 'min_samples_split': 8, 'min_samples_leaf': 7, 'max_features': 'log2'}. Best is trial 12 with value: 1.0773335901782923.\n",
            "[I 2025-09-14 17:02:28,691] Trial 20 finished with value: 1.0846578457018925 and parameters: {'n_estimators': 351, 'max_depth': 40, 'min_samples_split': 4, 'min_samples_leaf': 1, 'max_features': None}. Best is trial 12 with value: 1.0773335901782923.\n",
            "[I 2025-09-14 17:02:41,931] Trial 21 finished with value: 1.0773425670230241 and parameters: {'n_estimators': 491, 'max_depth': 35, 'min_samples_split': 2, 'min_samples_leaf': 1, 'max_features': None}. Best is trial 12 with value: 1.0773335901782923.\n",
            "[I 2025-09-14 17:02:53,638] Trial 22 finished with value: 1.09538586909578 and parameters: {'n_estimators': 465, 'max_depth': 31, 'min_samples_split': 2, 'min_samples_leaf': 3, 'max_features': None}. Best is trial 12 with value: 1.0773335901782923.\n",
            "[I 2025-09-14 17:03:05,882] Trial 23 finished with value: 1.0920381849609242 and parameters: {'n_estimators': 466, 'max_depth': 46, 'min_samples_split': 5, 'min_samples_leaf': 1, 'max_features': None}. Best is trial 12 with value: 1.0773335901782923.\n",
            "[I 2025-09-14 17:03:15,875] Trial 24 finished with value: 1.0972410262648835 and parameters: {'n_estimators': 499, 'max_depth': 37, 'min_samples_split': 4, 'min_samples_leaf': 3, 'max_features': None}. Best is trial 12 with value: 1.0773335901782923.\n",
            "[I 2025-09-14 17:03:25,003] Trial 25 finished with value: 1.0861920970568675 and parameters: {'n_estimators': 428, 'max_depth': 32, 'min_samples_split': 2, 'min_samples_leaf': 2, 'max_features': None}. Best is trial 12 with value: 1.0773335901782923.\n",
            "[I 2025-09-14 17:03:33,264] Trial 26 finished with value: 1.1379082166006522 and parameters: {'n_estimators': 454, 'max_depth': 24, 'min_samples_split': 9, 'min_samples_leaf': 1, 'max_features': None}. Best is trial 12 with value: 1.0773335901782923.\n",
            "[I 2025-09-14 17:03:40,456] Trial 27 finished with value: 1.0928812863985187 and parameters: {'n_estimators': 371, 'max_depth': 40, 'min_samples_split': 6, 'min_samples_leaf': 2, 'max_features': None}. Best is trial 12 with value: 1.0773335901782923.\n",
            "[I 2025-09-14 17:03:41,823] Trial 28 finished with value: 2.955660789179725 and parameters: {'n_estimators': 413, 'max_depth': 33, 'min_samples_split': 3, 'min_samples_leaf': 3, 'max_features': 'sqrt'}. Best is trial 12 with value: 1.0773335901782923.\n",
            "[I 2025-09-14 17:03:42,838] Trial 29 finished with value: 3.012161871275714 and parameters: {'n_estimators': 327, 'max_depth': 22, 'min_samples_split': 5, 'min_samples_leaf': 1, 'max_features': 'log2'}. Best is trial 12 with value: 1.0773335901782923.\n",
            "[I 2025-09-14 17:03:50,793] Trial 30 finished with value: 1.2360410434424012 and parameters: {'n_estimators': 483, 'max_depth': 45, 'min_samples_split': 3, 'min_samples_leaf': 7, 'max_features': None}. Best is trial 12 with value: 1.0773335901782923.\n",
            "[I 2025-09-14 17:04:01,537] Trial 31 finished with value: 1.0785896839539586 and parameters: {'n_estimators': 496, 'max_depth': 37, 'min_samples_split': 2, 'min_samples_leaf': 1, 'max_features': None}. Best is trial 12 with value: 1.0773335901782923.\n",
            "[I 2025-09-14 17:04:12,248] Trial 32 finished with value: 1.088731882669072 and parameters: {'n_estimators': 448, 'max_depth': 35, 'min_samples_split': 3, 'min_samples_leaf': 2, 'max_features': None}. Best is trial 12 with value: 1.0773335901782923.\n",
            "[I 2025-09-14 17:04:23,765] Trial 33 finished with value: 1.0831180745388675 and parameters: {'n_estimators': 472, 'max_depth': 42, 'min_samples_split': 4, 'min_samples_leaf': 1, 'max_features': None}. Best is trial 12 with value: 1.0773335901782923.\n",
            "[I 2025-09-14 17:04:24,249] Trial 34 finished with value: 2.9032334475632524 and parameters: {'n_estimators': 124, 'max_depth': 35, 'min_samples_split': 6, 'min_samples_leaf': 2, 'max_features': 'sqrt'}. Best is trial 12 with value: 1.0773335901782923.\n",
            "[I 2025-09-14 17:04:36,387] Trial 35 finished with value: 1.098904159985853 and parameters: {'n_estimators': 422, 'max_depth': 38, 'min_samples_split': 2, 'min_samples_leaf': 3, 'max_features': None}. Best is trial 12 with value: 1.0773335901782923.\n",
            "[I 2025-09-14 17:04:45,561] Trial 36 finished with value: 1.1085442468690259 and parameters: {'n_estimators': 475, 'max_depth': 31, 'min_samples_split': 7, 'min_samples_leaf': 1, 'max_features': None}. Best is trial 12 with value: 1.0773335901782923.\n",
            "[I 2025-09-14 17:04:46,701] Trial 37 finished with value: 3.135734576728163 and parameters: {'n_estimators': 392, 'max_depth': 29, 'min_samples_split': 9, 'min_samples_leaf': 6, 'max_features': 'sqrt'}. Best is trial 12 with value: 1.0773335901782923.\n",
            "[I 2025-09-14 17:04:53,836] Trial 38 finished with value: 1.4359205245467042 and parameters: {'n_estimators': 442, 'max_depth': 47, 'min_samples_split': 5, 'min_samples_leaf': 10, 'max_features': None}. Best is trial 12 with value: 1.0773335901782923.\n",
            "[I 2025-09-14 17:04:54,856] Trial 39 finished with value: 3.0724465677129924 and parameters: {'n_estimators': 329, 'max_depth': 43, 'min_samples_split': 3, 'min_samples_leaf': 2, 'max_features': 'log2'}. Best is trial 12 with value: 1.0773335901782923.\n",
            "[I 2025-09-14 17:04:58,534] Trial 40 finished with value: 1.2991524343970726 and parameters: {'n_estimators': 234, 'max_depth': 27, 'min_samples_split': 17, 'min_samples_leaf': 4, 'max_features': None}. Best is trial 12 with value: 1.0773335901782923.\n",
            "[I 2025-09-14 17:05:09,371] Trial 41 finished with value: 1.0786166311386733 and parameters: {'n_estimators': 497, 'max_depth': 37, 'min_samples_split': 2, 'min_samples_leaf': 1, 'max_features': None}. Best is trial 12 with value: 1.0773335901782923.\n",
            "[I 2025-09-14 17:05:19,658] Trial 42 finished with value: 1.0776646106739824 and parameters: {'n_estimators': 488, 'max_depth': 39, 'min_samples_split': 2, 'min_samples_leaf': 1, 'max_features': None}. Best is trial 12 with value: 1.0773335901782923.\n",
            "[I 2025-09-14 17:05:28,214] Trial 43 finished with value: 1.082942732442715 and parameters: {'n_estimators': 474, 'max_depth': 40, 'min_samples_split': 4, 'min_samples_leaf': 1, 'max_features': None}. Best is trial 12 with value: 1.0773335901782923.\n",
            "[I 2025-09-14 17:05:30,271] Trial 44 finished with value: 1.1166232094824136 and parameters: {'n_estimators': 111, 'max_depth': 35, 'min_samples_split': 3, 'min_samples_leaf': 2, 'max_features': None}. Best is trial 12 with value: 1.0773335901782923.\n",
            "[I 2025-09-14 17:05:41,354] Trial 45 finished with value: 1.081724297029581 and parameters: {'n_estimators': 449, 'max_depth': 39, 'min_samples_split': 2, 'min_samples_leaf': 1, 'max_features': None}. Best is trial 12 with value: 1.0773335901782923.\n",
            "[I 2025-09-14 17:05:43,479] Trial 46 finished with value: 3.0814985519019933 and parameters: {'n_estimators': 479, 'max_depth': 15, 'min_samples_split': 7, 'min_samples_leaf': 5, 'max_features': 'sqrt'}. Best is trial 12 with value: 1.0773335901782923.\n",
            "[I 2025-09-14 17:05:51,786] Trial 47 finished with value: 1.0980456716226397 and parameters: {'n_estimators': 379, 'max_depth': 30, 'min_samples_split': 3, 'min_samples_leaf': 3, 'max_features': None}. Best is trial 12 with value: 1.0773335901782923.\n",
            "[I 2025-09-14 17:05:59,565] Trial 48 finished with value: 1.2920786827333557 and parameters: {'n_estimators': 417, 'max_depth': 42, 'min_samples_split': 4, 'min_samples_leaf': 8, 'max_features': None}. Best is trial 12 with value: 1.0773335901782923.\n",
            "[I 2025-09-14 17:06:01,855] Trial 49 finished with value: 3.124497930517185 and parameters: {'n_estimators': 487, 'max_depth': 34, 'min_samples_split': 6, 'min_samples_leaf': 2, 'max_features': 'log2'}. Best is trial 12 with value: 1.0773335901782923.\n"
          ]
        },
        {
          "name": "stdout",
          "output_type": "stream",
          "text": [
            "\n",
            "Optimization completed!\n",
            "Number of trials: 50\n",
            "Best trial: 12\n",
            "Best value (WAPE): 1.0773\n",
            "Best params: {'n_estimators': 490, 'max_depth': 37, 'min_samples_split': 2, 'min_samples_leaf': 1, 'max_features': None}\n"
          ]
        }
      ],
      "source": [
        "# Create Optuna objective using project module\n",
        "print(\"Creating Optuna objective...\")\n",
        "objective = create_objective(X_train, y_train, X_val, y_val, primary_metric='wape')\n",
        "\n",
        "# Create study\n",
        "study = optuna.create_study(direction='minimize', study_name='pricing_rf_optimization')\n",
        "print(f\"Study created: {study.study_name}\")\n",
        "\n",
        "# Run optimization\n",
        "print(\"Starting hyperparameter optimization...\")\n",
        "print(\"This may take several minutes...\")\n",
        "study.optimize(objective, n_trials=50)\n",
        "\n",
        "print(f\"\\nOptimization completed!\")\n",
        "print(f\"Number of trials: {len(study.trials)}\")\n",
        "print(f\"Best trial: {study.best_trial.number}\")\n",
        "print(f\"Best value (WAPE): {study.best_value:.4f}\")\n",
        "print(f\"Best params: {study.best_params}\")\n"
      ]
    },
    {
      "cell_type": "markdown",
      "metadata": {},
      "source": [
        "## 4. Model Evaluation and Analysis\n"
      ]
    },
    {
      "cell_type": "code",
      "execution_count": 10,
      "metadata": {},
      "outputs": [
        {
          "name": "stdout",
          "output_type": "stream",
          "text": [
            "Training best model...\n",
            "\n",
            "Training Metrics:\n",
            "WAPE: 0.3653\n",
            "MAE: 0.4501\n",
            "R²: 0.9992\n",
            "\n",
            "Validation Metrics:\n",
            "WAPE: 1.0773\n",
            "MAE: 1.6152\n",
            "R²: 0.9800\n",
            "\n",
            "Tail MAE (90th percentile):\n",
            "Train: 0.9604\n",
            "Validation: 6.3415\n"
          ]
        }
      ],
      "source": [
        "# Train best model\n",
        "print(\"Training best model...\")\n",
        "best_model = build_rf(**study.best_params)\n",
        "best_model.fit(X_train, y_train)\n",
        "\n",
        "# Make predictions\n",
        "y_pred_train = best_model.predict(X_train)\n",
        "y_pred_val = best_model.predict(X_val)\n",
        "\n",
        "# Calculate metrics using project modules\n",
        "print(\"\\nTraining Metrics:\")\n",
        "train_wape = wape(y_train, y_pred_train)\n",
        "train_mae = mean_absolute_error(y_train, y_pred_train)\n",
        "train_r2 = r2_score(y_train, y_pred_train)\n",
        "print(f\"WAPE: {train_wape:.4f}\")\n",
        "print(f\"MAE: {train_mae:.4f}\")\n",
        "print(f\"R²: {train_r2:.4f}\")\n",
        "\n",
        "print(\"\\nValidation Metrics:\")\n",
        "val_wape = wape(y_val, y_pred_val)\n",
        "val_mae = mean_absolute_error(y_val, y_pred_val)\n",
        "val_r2 = r2_score(y_val, y_pred_val)\n",
        "print(f\"WAPE: {val_wape:.4f}\")\n",
        "print(f\"MAE: {val_mae:.4f}\")\n",
        "print(f\"R²: {val_r2:.4f}\")\n",
        "\n",
        "# Calculate tail MAE\n",
        "train_tail_mae = tail_mae(y_train, y_pred_train, percentile=90)\n",
        "val_tail_mae = tail_mae(y_val, y_pred_val, percentile=90)\n",
        "print(f\"\\nTail MAE (90th percentile):\")\n",
        "print(f\"Train: {train_tail_mae:.4f}\")\n",
        "print(f\"Validation: {val_tail_mae:.4f}\")\n"
      ]
    },
    {
      "cell_type": "markdown",
      "metadata": {},
      "source": [
        "## 5. Feature Importance Analysis\n"
      ]
    },
    {
      "cell_type": "code",
      "execution_count": 11,
      "metadata": {},
      "outputs": [
        {
          "name": "stdout",
          "output_type": "stream",
          "text": [
            "Top 10 Most Important Features:\n",
            "                       feature  importance\n",
            "33           num__price_diff_7    0.341295\n",
            "18   num__price_rolling_mean_7    0.226589\n",
            "35          num__price_diff_30    0.099111\n",
            "31           num__price_diff_1    0.095584\n",
            "30     num__price_pct_change_1    0.076893\n",
            "15            num__price_lag_1    0.062008\n",
            "21    num__price_rolling_max_7    0.041183\n",
            "20    num__price_rolling_min_7    0.019831\n",
            "25   num__price_rolling_max_30    0.006336\n",
            "22  num__price_rolling_mean_30    0.006070\n"
          ]
        },
        {
          "data": {
            "image/png": "[encoded data removed]",
            "text/plain": [
              "<Figure size 1200x800 with 1 Axes>"
            ]
          },
          "metadata": {},
          "output_type": "display_data"
        },
        {
          "name": "stdout",
          "output_type": "stream",
          "text": [
            "\n",
            "Feature Importance Statistics:\n",
            "Mean importance: 0.0256\n",
            "Std importance: 0.0666\n",
            "Max importance: 0.3413\n",
            "Min importance: 0.0000\n"
          ]
        }
      ],
      "source": [
        "# Feature importance analysis\n",
        "feature_names = feature_pipeline.get_feature_names_out()\n",
        "feature_importance = best_model.feature_importances_\n",
        "\n",
        "# Create importance dataframe\n",
        "importance_df = pd.DataFrame({\n",
        "    'feature': feature_names,\n",
        "    'importance': feature_importance\n",
        "}).sort_values('importance', ascending=False)\n",
        "\n",
        "print(\"Top 10 Most Important Features:\")\n",
        "print(importance_df.head(10))\n",
        "\n",
        "# Plot feature importance\n",
        "plt.figure(figsize=(12, 8))\n",
        "top_features = importance_df.head(15)\n",
        "plt.barh(range(len(top_features)), top_features['importance'])\n",
        "plt.yticks(range(len(top_features)), top_features['feature'])\n",
        "plt.xlabel('Feature Importance')\n",
        "plt.title('Top 15 Feature Importances')\n",
        "plt.gca().invert_yaxis()\n",
        "plt.tight_layout()\n",
        "plt.show()\n",
        "\n",
        "# Feature importance statistics\n",
        "print(f\"\\nFeature Importance Statistics:\")\n",
        "print(f\"Mean importance: {feature_importance.mean():.4f}\")\n",
        "print(f\"Std importance: {feature_importance.std():.4f}\")\n",
        "print(f\"Max importance: {feature_importance.max():.4f}\")\n",
        "print(f\"Min importance: {feature_importance.min():.4f}\")\n"
      ]
    },
    {
      "cell_type": "markdown",
      "metadata": {},
      "source": [
        "## 6. Cross-Validation Analysis\n"
      ]
    },
    {
      "cell_type": "code",
      "execution_count": 12,
      "metadata": {},
      "outputs": [
        {
          "name": "stdout",
          "output_type": "stream",
          "text": [
            "Running cross-validation...\n",
            "Fold 1: WAPE = 2.1770\n",
            "Fold 2: WAPE = 1.6661\n",
            "Fold 3: WAPE = 1.1497\n",
            "Fold 4: WAPE = 1.2329\n",
            "Fold 5: WAPE = 1.0773\n",
            "\n",
            "Cross-Validation Results:\n",
            "Mean WAPE: 1.4606\n",
            "Std WAPE: 0.4125\n",
            "Min WAPE: 1.0773\n",
            "Max WAPE: 2.1770\n"
          ]
        },
        {
          "data": {
            "image/png": "[encoded data removed]",
            "text/plain": [
              "<Figure size 1000x600 with 1 Axes>"
            ]
          },
          "metadata": {},
          "output_type": "display_data"
        }
      ],
      "source": [
        "# Cross-validation using time series splits\n",
        "print(\"Running cross-validation...\")\n",
        "\n",
        "# Create CV objective\n",
        "cv_objective = create_objective_with_cv(X, y, splits, primary_metric='wape')\n",
        "\n",
        "# Run CV\n",
        "cv_scores = []\n",
        "for i, (train_idx, val_idx) in enumerate(splits):\n",
        "    X_train_cv = X[train_idx]\n",
        "    y_train_cv = y[train_idx]\n",
        "    X_val_cv = X[val_idx]\n",
        "    y_val_cv = y[val_idx]\n",
        "    \n",
        "    # Train model\n",
        "    model_cv = build_rf(**study.best_params)\n",
        "    model_cv.fit(X_train_cv, y_train_cv)\n",
        "    \n",
        "    # Predict and score\n",
        "    y_pred_cv = model_cv.predict(X_val_cv)\n",
        "    score = wape(y_val_cv, y_pred_cv)\n",
        "    cv_scores.append(score)\n",
        "    \n",
        "    print(f\"Fold {i+1}: WAPE = {score:.4f}\")\n",
        "\n",
        "# CV statistics\n",
        "cv_scores = np.array(cv_scores)\n",
        "print(f\"\\nCross-Validation Results:\")\n",
        "print(f\"Mean WAPE: {cv_scores.mean():.4f}\")\n",
        "print(f\"Std WAPE: {cv_scores.std():.4f}\")\n",
        "print(f\"Min WAPE: {cv_scores.min():.4f}\")\n",
        "print(f\"Max WAPE: {cv_scores.max():.4f}\")\n",
        "\n",
        "# Plot CV scores\n",
        "plt.figure(figsize=(10, 6))\n",
        "plt.plot(range(1, len(cv_scores) + 1), cv_scores, 'o-', linewidth=2, markersize=8)\n",
        "plt.axhline(y=cv_scores.mean(), color='r', linestyle='--', label=f'Mean: {cv_scores.mean():.4f}')\n",
        "plt.xlabel('Fold')\n",
        "plt.ylabel('WAPE')\n",
        "plt.title('Cross-Validation Scores')\n",
        "plt.legend()\n",
        "plt.grid(True, alpha=0.3)\n",
        "plt.tight_layout()\n",
        "plt.show()\n"
      ]
    },
    {
      "cell_type": "markdown",
      "metadata": {},
      "source": [
        "## 7. Model Summary and Next Steps\n"
      ]
    },
    {
      "cell_type": "code",
      "execution_count": 13,
      "metadata": {},
      "outputs": [
        {
          "name": "stdout",
          "output_type": "stream",
          "text": [
            "=== MODEL DEVELOPMENT SUMMARY ===\n",
            "Best hyperparameters: {'n_estimators': 490, 'max_depth': 37, 'min_samples_split': 2, 'min_samples_leaf': 1, 'max_features': None}\n",
            "Best validation WAPE: 1.0773\n",
            "Cross-validation mean WAPE: 1.4606 ± 0.4125\n",
            "Final validation WAPE: 1.0773\n",
            "Final validation R²: 0.9800\n",
            "\n",
            "=== FEATURE INSIGHTS ===\n",
            "Total features: 39\n",
            "Top 5 features:\n",
            "  1. num__price_diff_7: 0.3413\n",
            "  2. num__price_rolling_mean_7: 0.2266\n",
            "  3. num__price_diff_30: 0.0991\n",
            "  4. num__price_diff_1: 0.0956\n",
            "  5. num__price_pct_change_1: 0.0769\n",
            "\n",
            "=== NEXT STEPS ===\n",
            "1. Save the best model and feature pipeline\n",
            "2. Register model in MLflow\n",
            "3. Deploy model to production\n",
            "4. Set up monitoring and drift detection\n",
            "5. Create model retraining pipeline\n",
            "\n",
            "=== SAVING MODEL ARTIFACTS ===\n",
            "✓ Model saved to artifacts/best_model.pkl\n",
            "✓ Feature pipeline saved to artifacts/feature_pipeline.pkl\n",
            "✓ Feature names saved to artifacts/feature_names.txt\n",
            "\n",
            "🎉 Model development completed successfully!\n"
          ]
        }
      ],
      "source": [
        "# Model summary\n",
        "print(\"=== MODEL DEVELOPMENT SUMMARY ===\")\n",
        "print(f\"Best hyperparameters: {study.best_params}\")\n",
        "print(f\"Best validation WAPE: {study.best_value:.4f}\")\n",
        "print(f\"Cross-validation mean WAPE: {cv_scores.mean():.4f} ± {cv_scores.std():.4f}\")\n",
        "print(f\"Final validation WAPE: {val_wape:.4f}\")\n",
        "print(f\"Final validation R²: {val_r2:.4f}\")\n",
        "\n",
        "print(f\"\\n=== FEATURE INSIGHTS ===\")\n",
        "print(f\"Total features: {len(feature_names)}\")\n",
        "print(f\"Top 5 features:\")\n",
        "for i, (_, row) in enumerate(importance_df.head(5).iterrows()):\n",
        "    print(f\"  {i+1}. {row['feature']}: {row['importance']:.4f}\")\n",
        "\n",
        "print(f\"\\n=== NEXT STEPS ===\")\n",
        "print(\"1. Save the best model and feature pipeline\")\n",
        "print(\"2. Register model in MLflow\")\n",
        "print(\"3. Deploy model to production\")\n",
        "print(\"4. Set up monitoring and drift detection\")\n",
        "print(\"5. Create model retraining pipeline\")\n",
        "\n",
        "# Save model artifacts\n",
        "print(f\"\\n=== SAVING MODEL ARTIFACTS ===\")\n",
        "import joblib\n",
        "import os\n",
        "\n",
        "# Create artifacts directory\n",
        "os.makedirs('../artifacts', exist_ok=True)\n",
        "\n",
        "# Save model\n",
        "joblib.dump(best_model, '../artifacts/best_model.pkl')\n",
        "print(\"✓ Model saved to artifacts/best_model.pkl\")\n",
        "\n",
        "# Save feature pipeline\n",
        "joblib.dump(feature_pipeline, '../artifacts/feature_pipeline.pkl')\n",
        "print(\"✓ Feature pipeline saved to artifacts/feature_pipeline.pkl\")\n",
        "\n",
        "# Save feature names\n",
        "with open('../artifacts/feature_names.txt', 'w') as f:\n",
        "    for name in feature_names:\n",
        "        f.write(f\"{name}\\n\")\n",
        "print(\"✓ Feature names saved to artifacts/feature_names.txt\")\n",
        "\n",
        "print(\"\\n🎉 Model development completed successfully!\")\n"
      ]
    },
    {
      "cell_type": "markdown",
      "metadata": {},
      "source": [
        "# Random Forest Model Development\n",
        "\n",
        "This notebook develops and evaluates the Random Forest pricing model:\n",
        "- Model training and validation\n",
        "- Hyperparameter optimization\n",
        "- Feature importance analysis\n",
        "- Model evaluation and metrics\n",
        "- Cross-validation results\n"
      ]
    }
  ],
  "metadata": {
    "kernelspec": {
      "display_name": ".venv",
      "language": "python",
      "name": "python3"
    },
    "language_info": {
      "codemirror_mode": {
        "name": "ipython",
        "version": 3
      },
      "file_extension": ".py",
      "mimetype": "text/x-python",
      "name": "python",
      "nbconvert_exporter": "python",
      "pygments_lexer": "ipython3",
      "version": "3.13.2"
    }
  },
  "nbformat": 4,
  "nbformat_minor": 2
}
