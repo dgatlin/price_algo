{
  "cells": [
    {
      "cell_type": "markdown",
      "metadata": {},
      "source": [
        "# Exploratory Data Analysis (EDA)\n",
        "\n",
        "This notebook performs comprehensive exploratory data analysis on the pricing dataset using the project's data loading, feature engineering, and metrics modules.\n",
        "\n",
        "## Objectives\n",
        "- Load and explore the raw dataset\n",
        "- Analyze feature distributions and relationships\n",
        "- Identify data quality issues\n",
        "- Understand temporal patterns\n",
        "- Prepare data for feature engineering\n"
      ]
    },
    {
      "cell_type": "code",
      "execution_count": 3,
      "metadata": {},
      "outputs": [
        {
          "name": "stdout",
          "output_type": "stream",
          "text": [
            "✅ pydantic-settings already available\n"
          ]
        }
      ],
      "source": [
        "# Install required packages if not available\n",
        "import subprocess\n",
        "import sys\n",
        "\n",
        "def install_package(package):\n",
        "    try:\n",
        "        subprocess.check_call([sys.executable, '-m', 'pip', 'install', package])\n",
        "        print(f\"✅ {package} installed successfully\")\n",
        "    except Exception as e:\n",
        "        print(f\"⚠️  Could not install {package}: {e}\")\n",
        "\n",
        "# Install pydantic-settings if needed\n",
        "try:\n",
        "    import pydantic_settings\n",
        "    print(\"✅ pydantic-settings already available\")\n",
        "except ImportError:\n",
        "    print(\"Installing pydantic-settings...\")\n",
        "    install_package('pydantic-settings')\n"
      ]
    },
    {
      "cell_type": "code",
      "execution_count": 4,
      "metadata": {},
      "outputs": [],
      "source": [
        "# Import project modules\n",
        "import sys\n",
        "sys.path.append('../src')\n",
        "\n",
        "import pandas as pd\n",
        "import numpy as np\n",
        "import matplotlib.pyplot as plt\n",
        "import seaborn as sns\n",
        "from datetime import datetime\n",
        "import warnings\n",
        "warnings.filterwarnings('ignore')\n",
        "\n",
        "# Project modules\n",
        "from pricing_rf.data import load_data, clean_data, get_time_series_cv_splits\n",
        "from pricing_rf.features import create_feature_pipeline, create_all_features\n",
        "from pricing_rf.metrics import wape, tail_mae, evaluate_model\n",
        "from pricing_rf.config import DataConfig\n",
        "\n",
        "# Set up plotting\n",
        "plt.style.use('seaborn-v0_8')\n",
        "sns.set_palette(\"husl\")\n",
        "plt.rcParams['figure.figsize'] = (12, 8)\n"
      ]
    },
    {
      "cell_type": "markdown",
      "metadata": {},
      "source": [
        "## 1. Data Loading and Initial Exploration\n"
      ]
    },
    {
      "cell_type": "code",
      "execution_count": 5,
      "metadata": {},
      "outputs": [
        {
          "name": "stdout",
          "output_type": "stream",
          "text": [
            "Loading raw data...\n",
            "Raw data shape: (10000, 6)\n",
            "Columns: ['timestamp', 'price', 'feature1', 'feature2', 'feature3', 'category_feature']\n"
          ]
        },
        {
          "data": {
            "text/html": [
              "<div>\n",
              "<style scoped>\n",
              "    .dataframe tbody tr th:only-of-type {\n",
              "        vertical-align: middle;\n",
              "    }\n",
              "\n",
              "    .dataframe tbody tr th {\n",
              "        vertical-align: top;\n",
              "    }\n",
              "\n",
              "    .dataframe thead th {\n",
              "        text-align: right;\n",
              "    }\n",
              "</style>\n",
              "<table border=\"1\" class=\"dataframe\">\n",
              "  <thead>\n",
              "    <tr style=\"text-align: right;\">\n",
              "      <th></th>\n",
              "      <th>timestamp</th>\n",
              "      <th>price</th>\n",
              "      <th>feature1</th>\n",
              "      <th>feature2</th>\n",
              "      <th>feature3</th>\n",
              "      <th>category_feature</th>\n",
              "    </tr>\n",
              "  </thead>\n",
              "  <tbody>\n",
              "    <tr>\n",
              "      <th>0</th>\n",
              "      <td>2020-01-01</td>\n",
              "      <td>107.45</td>\n",
              "      <td>NaN</td>\n",
              "      <td>3.17</td>\n",
              "      <td>-0.67</td>\n",
              "      <td>category_c</td>\n",
              "    </tr>\n",
              "    <tr>\n",
              "      <th>1</th>\n",
              "      <td>2020-01-02</td>\n",
              "      <td>98.28</td>\n",
              "      <td>1.43</td>\n",
              "      <td>2.89</td>\n",
              "      <td>0.02</td>\n",
              "      <td>category_a</td>\n",
              "    </tr>\n",
              "    <tr>\n",
              "      <th>2</th>\n",
              "      <td>2020-01-03</td>\n",
              "      <td>110.41</td>\n",
              "      <td>1.26</td>\n",
              "      <td>1.30</td>\n",
              "      <td>0.46</td>\n",
              "      <td>category_b</td>\n",
              "    </tr>\n",
              "    <tr>\n",
              "      <th>3</th>\n",
              "      <td>2020-01-04</td>\n",
              "      <td>123.89</td>\n",
              "      <td>2.10</td>\n",
              "      <td>3.84</td>\n",
              "      <td>1.11</td>\n",
              "      <td>category_a</td>\n",
              "    </tr>\n",
              "    <tr>\n",
              "      <th>4</th>\n",
              "      <td>2020-01-05</td>\n",
              "      <td>97.88</td>\n",
              "      <td>2.92</td>\n",
              "      <td>0.22</td>\n",
              "      <td>1.68</td>\n",
              "      <td>category_b</td>\n",
              "    </tr>\n",
              "  </tbody>\n",
              "</table>\n",
              "</div>"
            ],
            "text/plain": [
              "    timestamp   price  feature1  feature2  feature3 category_feature\n",
              "0  2020-01-01  107.45       NaN      3.17     -0.67       category_c\n",
              "1  2020-01-02   98.28      1.43      2.89      0.02       category_a\n",
              "2  2020-01-03  110.41      1.26      1.30      0.46       category_b\n",
              "3  2020-01-04  123.89      2.10      3.84      1.11       category_a\n",
              "4  2020-01-05   97.88      2.92      0.22      1.68       category_b"
            ]
          },
          "execution_count": 5,
          "metadata": {},
          "output_type": "execute_result"
        }
      ],
      "source": [
        "# Load raw data using project module\n",
        "print(\"Loading raw data...\")\n",
        "raw_data = load_data('../data/raw.csv')\n",
        "print(f\"Raw data shape: {raw_data.shape}\")\n",
        "print(f\"Columns: {list(raw_data.columns)}\")\n",
        "\n",
        "# Display first few rows\n",
        "raw_data.head()\n"
      ]
    },
    {
      "cell_type": "code",
      "execution_count": 6,
      "metadata": {},
      "outputs": [
        {
          "name": "stdout",
          "output_type": "stream",
          "text": [
            "Data Info:\n",
            "Shape: (10000, 6)\n",
            "Memory usage: 1.43 MB\n",
            "Date range: 2020-01-01 to 2047-05-18\n",
            "Unique categories: 3\n",
            "\n",
            "Data Types:\n",
            "timestamp            object\n",
            "price               float64\n",
            "feature1            float64\n",
            "feature2            float64\n",
            "feature3            float64\n",
            "category_feature     object\n",
            "dtype: object\n"
          ]
        }
      ],
      "source": [
        "# Basic data info\n",
        "print(\"Data Info:\")\n",
        "print(f\"Shape: {raw_data.shape}\")\n",
        "print(f\"Memory usage: {raw_data.memory_usage(deep=True).sum() / 1024**2:.2f} MB\")\n",
        "print(f\"Date range: {raw_data['timestamp'].min()} to {raw_data['timestamp'].max()}\")\n",
        "print(f\"Unique categories: {raw_data['category_feature'].nunique()}\")\n",
        "\n",
        "# Data types\n",
        "print(\"\\nData Types:\")\n",
        "print(raw_data.dtypes)\n"
      ]
    },
    {
      "cell_type": "markdown",
      "metadata": {},
      "source": [
        "## 2. Data Quality Analysis\n"
      ]
    },
    {
      "cell_type": "code",
      "execution_count": 7,
      "metadata": {},
      "outputs": [
        {
          "name": "stdout",
          "output_type": "stream",
          "text": [
            "Missing Values:\n",
            "          Missing Count  Missing %\n",
            "feature1            200        2.0\n",
            "\n",
            "Duplicate rows: 0\n"
          ]
        }
      ],
      "source": [
        "# Missing values analysis\n",
        "missing_data = raw_data.isnull().sum()\n",
        "missing_percent = (missing_data / len(raw_data)) * 100\n",
        "\n",
        "missing_df = pd.DataFrame({\n",
        "    'Missing Count': missing_data,\n",
        "    'Missing %': missing_percent\n",
        "})\n",
        "missing_df = missing_df[missing_df['Missing Count'] > 0].sort_values('Missing Count', ascending=False)\n",
        "\n",
        "if not missing_df.empty:\n",
        "    print(\"Missing Values:\")\n",
        "    print(missing_df)\n",
        "else:\n",
        "    print(\"No missing values found!\")\n",
        "\n",
        "# Duplicate rows\n",
        "duplicates = raw_data.duplicated().sum()\n",
        "print(f\"\\nDuplicate rows: {duplicates}\")\n"
      ]
    },
    {
      "cell_type": "markdown",
      "metadata": {},
      "source": [
        "# Exploratory Data Analysis (EDA)\n",
        "\n",
        "This notebook performs exploratory data analysis on the pricing dataset to understand:\n",
        "- Data structure and quality\n",
        "- Feature distributions and relationships\n",
        "- Time series patterns\n",
        "- Missing values and outliers\n",
        "- Target variable characteristics\n"
      ]
    },
    {
      "cell_type": "code",
      "execution_count": 8,
      "metadata": {},
      "outputs": [],
      "source": [
        "import pandas as pd\n",
        "import numpy as np\n",
        "import matplotlib.pyplot as plt\n",
        "import seaborn as sns\n",
        "import plotly.express as px\n",
        "import plotly.graph_objects as go\n",
        "from plotly.subplots import make_subplots\n",
        "import warnings\n",
        "warnings.filterwarnings('ignore')\n",
        "\n",
        "# Set style\n",
        "plt.style.use('seaborn-v0_8')\n",
        "sns.set_palette(\"husl\")\n"
      ]
    },
    {
      "cell_type": "code",
      "execution_count": 9,
      "metadata": {},
      "outputs": [
        {
          "name": "stdout",
          "output_type": "stream",
          "text": [
            "Dataset shape: (10000, 6)\n",
            "Columns: ['timestamp', 'price', 'feature1', 'feature2', 'feature3', 'category_feature']\n"
          ]
        },
        {
          "data": {
            "text/html": [
              "<div>\n",
              "<style scoped>\n",
              "    .dataframe tbody tr th:only-of-type {\n",
              "        vertical-align: middle;\n",
              "    }\n",
              "\n",
              "    .dataframe tbody tr th {\n",
              "        vertical-align: top;\n",
              "    }\n",
              "\n",
              "    .dataframe thead th {\n",
              "        text-align: right;\n",
              "    }\n",
              "</style>\n",
              "<table border=\"1\" class=\"dataframe\">\n",
              "  <thead>\n",
              "    <tr style=\"text-align: right;\">\n",
              "      <th></th>\n",
              "      <th>timestamp</th>\n",
              "      <th>price</th>\n",
              "      <th>feature1</th>\n",
              "      <th>feature2</th>\n",
              "      <th>feature3</th>\n",
              "      <th>category_feature</th>\n",
              "    </tr>\n",
              "  </thead>\n",
              "  <tbody>\n",
              "    <tr>\n",
              "      <th>0</th>\n",
              "      <td>2020-01-01</td>\n",
              "      <td>107.45</td>\n",
              "      <td>NaN</td>\n",
              "      <td>3.17</td>\n",
              "      <td>-0.67</td>\n",
              "      <td>category_c</td>\n",
              "    </tr>\n",
              "    <tr>\n",
              "      <th>1</th>\n",
              "      <td>2020-01-02</td>\n",
              "      <td>98.28</td>\n",
              "      <td>1.43</td>\n",
              "      <td>2.89</td>\n",
              "      <td>0.02</td>\n",
              "      <td>category_a</td>\n",
              "    </tr>\n",
              "    <tr>\n",
              "      <th>2</th>\n",
              "      <td>2020-01-03</td>\n",
              "      <td>110.41</td>\n",
              "      <td>1.26</td>\n",
              "      <td>1.30</td>\n",
              "      <td>0.46</td>\n",
              "      <td>category_b</td>\n",
              "    </tr>\n",
              "    <tr>\n",
              "      <th>3</th>\n",
              "      <td>2020-01-04</td>\n",
              "      <td>123.89</td>\n",
              "      <td>2.10</td>\n",
              "      <td>3.84</td>\n",
              "      <td>1.11</td>\n",
              "      <td>category_a</td>\n",
              "    </tr>\n",
              "    <tr>\n",
              "      <th>4</th>\n",
              "      <td>2020-01-05</td>\n",
              "      <td>97.88</td>\n",
              "      <td>2.92</td>\n",
              "      <td>0.22</td>\n",
              "      <td>1.68</td>\n",
              "      <td>category_b</td>\n",
              "    </tr>\n",
              "  </tbody>\n",
              "</table>\n",
              "</div>"
            ],
            "text/plain": [
              "    timestamp   price  feature1  feature2  feature3 category_feature\n",
              "0  2020-01-01  107.45       NaN      3.17     -0.67       category_c\n",
              "1  2020-01-02   98.28      1.43      2.89      0.02       category_a\n",
              "2  2020-01-03  110.41      1.26      1.30      0.46       category_b\n",
              "3  2020-01-04  123.89      2.10      3.84      1.11       category_a\n",
              "4  2020-01-05   97.88      2.92      0.22      1.68       category_b"
            ]
          },
          "execution_count": 9,
          "metadata": {},
          "output_type": "execute_result"
        }
      ],
      "source": [
        "# Load data\n",
        "df = pd.read_csv('../data/raw.csv')\n",
        "print(f\"Dataset shape: {df.shape}\")\n",
        "print(f\"Columns: {list(df.columns)}\")\n",
        "df.head()\n"
      ]
    }
  ],
  "metadata": {
    "kernelspec": {
      "display_name": ".venv",
      "language": "python",
      "name": "python3"
    },
    "language_info": {
      "codemirror_mode": {
        "name": "ipython",
        "version": 3
      },
      "file_extension": ".py",
      "mimetype": "text/x-python",
      "name": "python",
      "nbconvert_exporter": "python",
      "pygments_lexer": "ipython3",
      "version": "3.13.2"
    }
  },
  "nbformat": 4,
  "nbformat_minor": 2
}
